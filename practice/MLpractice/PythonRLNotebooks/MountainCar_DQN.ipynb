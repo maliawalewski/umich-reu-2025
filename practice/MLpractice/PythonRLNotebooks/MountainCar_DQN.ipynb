{
 "cells": [
  {
   "cell_type": "code",
   "execution_count": 1,
   "id": "b04a22d2",
   "metadata": {},
   "outputs": [
    {
     "ename": "ModuleNotFoundError",
     "evalue": "No module named 'gymnasium'",
     "output_type": "error",
     "traceback": [
      "\u001b[31m---------------------------------------------------------------------------\u001b[39m",
      "\u001b[31mModuleNotFoundError\u001b[39m                       Traceback (most recent call last)",
      "\u001b[36mCell\u001b[39m\u001b[36m \u001b[39m\u001b[32mIn[1]\u001b[39m\u001b[32m, line 1\u001b[39m\n\u001b[32m----> \u001b[39m\u001b[32m1\u001b[39m \u001b[38;5;28;01mimport\u001b[39;00m\u001b[38;5;250m \u001b[39m\u001b[34;01mgymnasium\u001b[39;00m\u001b[38;5;250m \u001b[39m\u001b[38;5;28;01mas\u001b[39;00m\u001b[38;5;250m \u001b[39m\u001b[34;01mgym\u001b[39;00m\n\u001b[32m      2\u001b[39m \u001b[38;5;28;01mfrom\u001b[39;00m\u001b[38;5;250m \u001b[39m\u001b[34;01mstable_baselines3\u001b[39;00m\u001b[38;5;250m \u001b[39m\u001b[38;5;28;01mimport\u001b[39;00m DQN\n\u001b[32m      4\u001b[39m \u001b[38;5;66;03m# Create environment (no rendering)\u001b[39;00m\n",
      "\u001b[31mModuleNotFoundError\u001b[39m: No module named 'gymnasium'"
     ]
    }
   ],
   "source": [
    "import gymnasium as gym\n",
    "from stable_baselines3 import DQN\n",
    "\n",
    "# Create environment (no rendering)\n",
    "train_env = gym.make(\"MountainCar-v0\")\n",
    "\n",
    "# Build DQN model with good hyperparameters\n",
    "model = DQN(\n",
    "    policy=\"MlpPolicy\",\n",
    "    env=train_env,\n",
    "    verbose=1,\n",
    "    learning_rate=1e-3,\n",
    "    buffer_size=50_000,\n",
    "    learning_starts=1000,\n",
    "    batch_size=64,\n",
    "    tau=1.0,\n",
    "    gamma=0.99,\n",
    "    train_freq=1,\n",
    "    target_update_interval=500,\n",
    "    exploration_initial_eps=1.0,\n",
    "    exploration_final_eps=0.01,\n",
    "    exploration_fraction=0.1,\n",
    ")\n",
    "\n",
    "# Train the model\n",
    "print(\"Training the model...\")\n",
    "model.learn(total_timesteps=350_000)\n",
    "print(\"Training complete!\")\n",
    "\n",
    "# Visualize agent performance (this part renders)\n",
    "eval_env = gym.make(\"MountainCar-v0\", render_mode=\"human\")\n",
    "\n",
    "print(\"\\nRunning evaluation episodes...\")\n",
    "for episode in range(5):\n",
    "    obs, info = eval_env.reset()\n",
    "    total_reward = 0\n",
    "\n",
    "    for step in range(200):\n",
    "        action, _ = model.predict(obs, deterministic=True)\n",
    "        obs, reward, terminated, truncated, info = eval_env.step(action)\n",
    "        total_reward += reward\n",
    "\n",
    "        if terminated or truncated:\n",
    "            if obs[0] >= 0.5:\n",
    "                print(f\"Episode {episode+1}: Reached the flag! Total reward: {total_reward}\")\n",
    "            else:\n",
    "                print(f\"Episode {episode+1}: Didn't reach flag! Total reward: {total_reward}\")\n",
    "            break\n",
    "\n",
    "eval_env.close()\n"
   ]
  }
 ],
 "metadata": {
  "kernelspec": {
   "display_name": "base",
   "language": "python",
   "name": "python3"
  },
  "language_info": {
   "codemirror_mode": {
    "name": "ipython",
    "version": 3
   },
   "file_extension": ".py",
   "mimetype": "text/x-python",
   "name": "python",
   "nbconvert_exporter": "python",
   "pygments_lexer": "ipython3",
   "version": "3.13.4"
  }
 },
 "nbformat": 4,
 "nbformat_minor": 5
}
